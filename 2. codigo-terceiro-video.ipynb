{
 "cells": [
  {
   "cell_type": "markdown",
   "id": "ad14d7c5-0e8a-419b-b8b9-15f052823e68",
   "metadata": {},
   "source": [
    "**Terceiro código**"
   ]
  },
  {
   "cell_type": "markdown",
   "id": "aaff27d7-2dc1-4664-8fa4-3e4c2203283e",
   "metadata": {},
   "source": [
    "**Gráfico de Frequência Relativa do Lançamento de Moedas**"
   ]
  },
  {
   "cell_type": "code",
   "execution_count": null,
   "id": "a3368b56-9d42-4c30-af98-d181370f6692",
   "metadata": {},
   "outputs": [],
   "source": [
    "import matplotlib.pyplot as plt\n",
    "import numpy as np\n",
    "\n",
    "caras = 0\n",
    "frequencia_acumulada_caras = [];\n",
    "\n",
    "for i in range(1, 1001):\n",
    "    numero = np.random.rand()\n",
    "    if numero >= 0.5:\n",
    "        caras = caras + 1\n",
    "    frequencia_acumulada_caras.append(caras/i)\n",
    "\n",
    "plt.plot(range(1, 1001), frequencia_acumulada_caras, color='darkblue', )\n",
    "plt.axhline(y=0.5, color='red', linestyle='--', linewidth=1.5)\n",
    "plt.ylim(0, 1)\n",
    "plt.title('Frequências em 1000 Lançamentos de Moedas')\n",
    "plt.xlabel('Número de Lançamentos')\n",
    "plt.ylabel('Frequência Acumulada de Caras')\n",
    "plt.grid(True)\n",
    "plt.show()"
   ]
  }
 ],
 "metadata": {
  "kernelspec": {
   "display_name": "Python [conda env:base] *",
   "language": "python",
   "name": "conda-base-py"
  },
  "language_info": {
   "codemirror_mode": {
    "name": "ipython",
    "version": 3
   },
   "file_extension": ".py",
   "mimetype": "text/x-python",
   "name": "python",
   "nbconvert_exporter": "python",
   "pygments_lexer": "ipython3",
   "version": "3.12.7"
  }
 },
 "nbformat": 4,
 "nbformat_minor": 5
}
