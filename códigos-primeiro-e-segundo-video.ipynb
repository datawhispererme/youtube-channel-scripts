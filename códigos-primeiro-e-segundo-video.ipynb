{
 "cells": [
  {
   "cell_type": "markdown",
   "id": "129415e9-10fa-470d-870f-7c72a2db4a8e",
   "metadata": {},
   "source": [
    "**Primeiro Código**"
   ]
  },
  {
   "cell_type": "markdown",
   "id": "6a080d45-155e-4c35-a5f0-e224fe4ff0b1",
   "metadata": {},
   "source": [
    "**Lançamento de Moeda apenas com a biblioteca Random**"
   ]
  },
  {
   "cell_type": "code",
   "execution_count": 3,
   "id": "5701e2d0-b33d-4b83-a453-116d2d3c6b73",
   "metadata": {},
   "outputs": [
    {
     "name": "stdout",
     "output_type": "stream",
     "text": [
      "coroa\n",
      "cara \n",
      "coroa\n",
      "cara \n",
      "coroa\n",
      "cara \n",
      "coroa\n",
      "coroa\n",
      "cara \n",
      "cara \n"
     ]
    }
   ],
   "source": [
    "import random\n",
    "\n",
    "eventos = ['cara ', 'coroa']\n",
    "\n",
    "for _ in range(10):\n",
    "    print(random.choice(eventos))"
   ]
  },
  {
   "cell_type": "markdown",
   "id": "bf22127c-ee5f-453d-b8ad-595bef0ccfbb",
   "metadata": {},
   "source": [
    "**Segundo Código**"
   ]
  },
  {
   "cell_type": "markdown",
   "id": "512589bf-9c36-464d-a4d8-22426e7f8b42",
   "metadata": {},
   "source": [
    "**Lançamento de Moeda apenas com o pacote Numpy**"
   ]
  },
  {
   "cell_type": "code",
   "execution_count": 13,
   "id": "18975f66-9244-4327-8509-85a1819f4831",
   "metadata": {},
   "outputs": [
    {
     "name": "stdout",
     "output_type": "stream",
     "text": [
      "cara\n",
      "coroa\n",
      "cara\n",
      "cara\n",
      "coroa\n",
      "coroa\n",
      "cara\n",
      "coroa\n",
      "coroa\n",
      "coroa\n"
     ]
    }
   ],
   "source": [
    "import numpy as np\n",
    "\n",
    "for _ in range(10):\n",
    "    numero = np.random.rand()\n",
    "    if numero >= 0.5:\n",
    "        print('cara')\n",
    "    else:\n",
    "        print('coroa')"
   ]
  },
  {
   "cell_type": "markdown",
   "id": "a31ae0f6-1ffc-4fc7-ae29-86adc5f4a45e",
   "metadata": {},
   "source": [
    "**Terceiro Código**"
   ]
  },
  {
   "cell_type": "markdown",
   "id": "82f8490d-b887-4f9a-aafd-f1d53120d189",
   "metadata": {},
   "source": [
    "**Código Melhorado do Histograma**"
   ]
  },
  {
   "cell_type": "code",
   "execution_count": 25,
   "id": "b3a5113d-300b-40a5-b800-76a7e2819873",
   "metadata": {},
   "outputs": [
    {
     "data": {
      "image/png": "[encoded data removed]",
      "text/plain": [
       "<Figure size 640x480 with 1 Axes>"
      ]
     },
     "metadata": {},
     "output_type": "display_data"
    }
   ],
   "source": [
    "import numpy as np\n",
    "import matplotlib.pyplot as plt\n",
    "\n",
    "caras = 0\n",
    "coroas = 0\n",
    "\n",
    "for _ in range(1000):\n",
    "    if np.random.rand() >= 0.5:\n",
    "        caras = caras + 1\n",
    "    else:\n",
    "        coroas = coroas + 1\n",
    "\n",
    "labels = ['Cara', 'Coroa']\n",
    "valores = [caras, coroas]\n",
    "\n",
    "plt.bar(labels, valores, color=['orange', 'blue'])\n",
    "plt.text(0, caras+10, str(caras), ha='center', fontsize=12)\n",
    "plt.text(1, coroas+10, str(coroas), ha='center', fontsize=12)\n",
    "\n",
    "plt.title('Lançamento de Moedas')\n",
    "plt.xlabel('Resultado')\n",
    "plt.ylabel('Frequência')\n",
    "plt.ylim(0, max(valores) + 50)\n",
    "plt.show()"
   ]
  },
  {
   "cell_type": "code",
   "execution_count": null,
   "id": "9177f2c7-4e0b-4c29-8c68-4d0e43d18e38",
   "metadata": {},
   "outputs": [],
   "source": []
  }
 ],
 "metadata": {
  "kernelspec": {
   "display_name": "Python [conda env:base] *",
   "language": "python",
   "name": "conda-base-py"
  },
  "language_info": {
   "codemirror_mode": {
    "name": "ipython",
    "version": 3
   },
   "file_extension": ".py",
   "mimetype": "text/x-python",
   "name": "python",
   "nbconvert_exporter": "python",
   "pygments_lexer": "ipython3",
   "version": "3.12.7"
  }
 },
 "nbformat": 4,
 "nbformat_minor": 5
}
